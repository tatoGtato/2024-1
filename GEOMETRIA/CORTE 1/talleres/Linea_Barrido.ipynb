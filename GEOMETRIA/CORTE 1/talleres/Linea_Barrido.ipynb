{
  "cells": [
    {
      "cell_type": "markdown",
      "metadata": {
        "id": "dJS4qHY-6mRc"
      },
      "source": [
        "\n",
        "\n",
        "---\n",
        "\n"
      ]
    },
    {
      "cell_type": "code",
      "execution_count": 6,
      "metadata": {
        "colab": {
          "base_uri": "https://localhost:8080/"
        },
        "id": "139qIuL-Fuzx",
        "outputId": "44dfc672-b19e-4a5a-f612-4f3477e6820e"
      },
      "outputs": [],
      "source": [
        "class Segment: \n",
        "    def __init__(self, start, end, segment_id):\n",
        "        self.start = start\n",
        "        self.end = end\n",
        "        self.segment_id = segment_id\n",
        "\n",
        "class Event: \n",
        "    def __init__(self, coordinates, event_type, segment_id):\n",
        "        self.coordinates = coordinates\n",
        "        self.event_type = event_type\n",
        "        self.segment_id = segment_id\n",
        "\n",
        "class EventQueue: \n",
        "    def __init__(self):\n",
        "        self.events = []\n",
        "\n",
        "    def put(self, event):\n",
        "        self.events.append(event)\n",
        "        self.events.sort(key=lambda x: x[0])\n",
        "\n",
        "    def get(self):\n",
        "        return self.events.pop(0)\n",
        "\n",
        "    def empty(self):\n",
        "        return len(self.events) == 0\n",
        "\n",
        "def intersect_segment(p, T, L, Q): \n",
        "    current_id = p.segment_id\n",
        "    next_id = find_next_segment(T, current_id)\n",
        "\n",
        "    while next_id is not None:\n",
        "        if (current_id, next_id) not in L:\n",
        "            L.add((current_id, next_id))\n",
        "            intersection_event = Event(p.coordinates, \"intersection\", current_id)\n",
        "            Q.put((-p.coordinates[0], intersection_event))\n",
        "        current_id = next_id\n",
        "        next_id = find_next_segment(T, current_id)\n",
        "\n",
        "def handle_event(p, T, L, Q): \n",
        "    if p.event_type == \"start\":\n",
        "        insert_segment(T, Segment(p.coordinates, p.coordinates, p.segment_id))\n",
        "        intersect_segment(p, T, L, Q)\n",
        "\n",
        "    elif p.event_type == \"end\":\n",
        "        r, s = find_neighbors(T, p.segment_id)\n",
        "        remove_segment(T, p.segment_id)\n",
        "        intersect_segment(Event(p.coordinates, \"intersection\", r), T, L, Q)\n",
        "        intersect_segment(Event(p.coordinates, \"intersection\", s), T, L, Q)\n",
        "\n",
        "    elif p.event_type == \"intersection\":\n",
        "        swap_order(T, p.segment_id)\n",
        "        q, t = find_neighbors(T, p.segment_id)\n",
        "        intersect_segment(Event(p.coordinates, \"intersection\", q), T, L, Q)\n",
        "        intersect_segment(Event(p.coordinates, \"intersection\", t), T, L, Q)\n",
        "        print(f\"Intersección en {p.coordinates} entre {p.segment_id} y {q}\")\n",
        "\n",
        "def find_intersections(S): \n",
        "    Q = EventQueue()\n",
        "    T = []\n",
        "    L = set()\n",
        "\n",
        "    for segment_id, (start, end) in enumerate(S):\n",
        "        start_event = Event(start, \"start\", segment_id)\n",
        "        end_event = Event(end, \"end\", segment_id)\n",
        "        Q.put((-start[0], start_event))\n",
        "        Q.put((-end[0], end_event))\n",
        "\n",
        "    while not Q.empty():\n",
        "        _, event = Q.get()\n",
        "        handle_event(event, T, L, Q)\n",
        "\n",
        "def find_neighbors(T, segment_id):\n",
        "    index = find_segment_index(T, segment_id)\n",
        "    if index is not None:\n",
        "        prev_id = T[index - 1].segment_id if index - 1 >= 0 else None\n",
        "        next_id = T[index + 1].segment_id if index + 1 < len(T) else None\n",
        "        return prev_id, next_id\n",
        "    return None, None\n",
        "\n",
        "def swap_order(T, segment_id):\n",
        "    index = find_segment_index(T, segment_id)\n",
        "    if index is not None:\n",
        "        T[index], T[index + 1] = T[index + 1], T[index]\n",
        "\n",
        "def insert_segment(T, new_segment):\n",
        "    T.append(new_segment)\n",
        "    T.sort(key=lambda s: s.start[1])\n",
        "\n",
        "def remove_segment(T, segment_id):\n",
        "    index = find_segment_index(T, segment_id)\n",
        "    if index is not None:\n",
        "        del T[index]\n",
        "\n",
        "def find_next_segment(T, segment_id):\n",
        "    index = find_segment_index(T, segment_id)\n",
        "    if index is not None and index + 1 < len(T):\n",
        "        return T[index + 1].segment_id\n",
        "    return None\n",
        "\n",
        "def find_segment_index(T, segment_id):\n",
        "    for i, segment in enumerate(T):\n",
        "        if segment.segment_id == segment_id:\n",
        "            return i\n",
        "    return None\n",
        "\n"
      ]
    },
    {
      "cell_type": "code",
      "execution_count": 7,
      "metadata": {
        "colab": {
          "base_uri": "https://localhost:8080/"
        },
        "id": "MAxQG4n82GM1",
        "outputId": "a0a48e85-87d7-41ec-9665-94aae68afd8f"
      },
      "outputs": [],
      "source": [
        "segmentos = [((1, 1), (4, 4)), ((2, 0), (5, 3)), ((3, 2), (6, 0))]"
      ]
    },
    {
      "cell_type": "code",
      "execution_count": 8,
      "metadata": {
        "colab": {
          "base_uri": "https://localhost:8080/",
          "height": 472
        },
        "id": "9gEvRbCS3BCJ",
        "outputId": "b0422916-9e91-4422-8ad8-310ffa14bb89"
      },
      "outputs": [
        {
          "data": {
            "image/png": "[encoded data removed]",
            "text/plain": [
              "<Figure size 640x480 with 1 Axes>"
            ]
          },
          "metadata": {},
          "output_type": "display_data"
        }
      ],
      "source": [
        "import matplotlib.pyplot as plt\n",
        "\n",
        "def plot_segments(segments):\n",
        "    fig, ax = plt.subplots()\n",
        "\n",
        "    for segment in segments:\n",
        "        x_values = [segment[0][0], segment[1][0]]\n",
        "        y_values = [segment[0][1], segment[1][1]]\n",
        "\n",
        "        ax.plot(x_values, y_values, marker='o', markersize=8, color='b')\n",
        "\n",
        "    ax.set_aspect('equal', adjustable='box')\n",
        "    plt.xlabel('X')\n",
        "    plt.ylabel('Y')\n",
        "    plt.title('Gráfico de Segmentos')\n",
        "    plt.grid(True)\n",
        "    plt.show()\n",
        "    \n",
        "# Graficar segmentos\n",
        "plot_segments(segmentos)\n",
        "\n"
      ]
    }
  ],
  "metadata": {
    "colab": {
      "provenance": []
    },
    "kernelspec": {
      "display_name": "Python 3",
      "name": "python3"
    },
    "language_info": {
      "codemirror_mode": {
        "name": "ipython",
        "version": 3
      },
      "file_extension": ".py",
      "mimetype": "text/x-python",
      "name": "python",
      "nbconvert_exporter": "python",
      "pygments_lexer": "ipython3",
      "version": "3.10.12"
    }
  },
  "nbformat": 4,
  "nbformat_minor": 0
}
