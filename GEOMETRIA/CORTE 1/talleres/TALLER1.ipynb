{
 "cells": [
  {
   "cell_type": "markdown",
   "metadata": {},
   "source": [
    "SE DEFINE LA CLASE"
   ]
  },
  {
   "cell_type": "code",
   "execution_count": 57,
   "metadata": {},
   "outputs": [],
   "source": [
    "class Vertex:\n",
    "    def __init__ (self, vertex_id, coordinates):\n",
    "        self.id = vertex_id\n",
    "        self.coordinates = coordinates \n",
    "        \n",
    "    def __repr__(self):\n",
    "        return f\"{self.coordinates}\"\n",
    "        \n",
    "class Edge:\n",
    "    def __init__(self, he1, he2):\n",
    "        self.halfEdge1 = he1\n",
    "        self.halfEdge2 = he2\n",
    "        \n",
    "    def __repr__(self):    \n",
    "        return f\"\"\"h1: {self.halfEdge1}\n",
    "                   h2: {self.halfEdge2}\"\"\"\n",
    "        \n",
    "class HalfEdge:\n",
    "    def __init__(self, id, v1, v2):\n",
    "        self.id = id\n",
    "        self.twin = None\n",
    "        self.origin = v1\n",
    "        self.destination = v2\n",
    "        self.prev = None\n",
    "        self.next= None\n",
    "     \n",
    "    def __repr__(self):    \n",
    "        return f\"\"\"id: {self.id}\n",
    "                   origin: {self.origin}\n",
    "                   destination: {self.destination}\n",
    "                   prev: {self.prev}\n",
    "                   next: {self.next}\"\"\"\n",
    "\n",
    "        \n",
    "class Face:\n",
    "    def __init__ (self, outerEdge, innerEdge):\n",
    "        self.halfEdge1 = outerEdge\n",
    "        self.halfEdge2 = innerEdge if innerEdge != None else None  "
   ]
  },
  {
   "cell_type": "code",
   "execution_count": 58,
   "metadata": {},
   "outputs": [],
   "source": [
    "class Dcel:\n",
    "    def __init__(self):\n",
    "        self.vertices = []\n",
    "        self.edges = []\n",
    "        self.faces = []\n",
    "        \n",
    "    def __repr__(self):\n",
    "        return f\"\"\"Vertices: {self.vertices}\\n\\nEdges: {self.edges}\"\"\"  \n",
    "    \n",
    "    def build_dcel(self, verts):\n",
    "        \"\"\"BUILDS VERTEX\"\"\"\n",
    "        count = 0\n",
    "        for i in verts:\n",
    "            self.vertices.append(Vertex(count, (i[0],i[1])))\n",
    "            count += 1\n",
    "            \n",
    "        \"\"\"BUILDS EDGES\"\"\"\n",
    "        count = 0\n",
    "        for i in self.vertices:\n",
    "            print(\"a\")\n",
    "            he1 = HalfEdge(count,i.coordinates[0], i.coordinates[1])\n",
    "            he2 = HalfEdge(count+1,i.coordinates[1], i.coordinates[0])\n",
    "            he1.twin = he2\n",
    "            he2.twin = he1\n",
    "            self.edges.append(Edge(he1,he2))\n",
    "            count += 2\n",
    "    "
   ]
  },
  {
   "cell_type": "code",
   "execution_count": 59,
   "metadata": {},
   "outputs": [
    {
     "name": "stdout",
     "output_type": "stream",
     "text": [
      "a\n",
      "Vertices: [((2, 3), (1, 2))]\n",
      "\n",
      "Edges: [h1: id: 0\n",
      "                   origin: (2, 3)\n",
      "                   destination: (1, 2)\n",
      "                   prev: None\n",
      "                   next: None\n",
      "                   h2: id: 1\n",
      "                   origin: (1, 2)\n",
      "                   destination: (2, 3)\n",
      "                   prev: None\n",
      "                   next: None]\n"
     ]
    }
   ],
   "source": [
    "verts = [((2,3),(1,2))]\n",
    "\n",
    "Dcel1 = Dcel()\n",
    "Dcel1.build_dcel(verts)\n",
    "\n",
    "print(Dcel1)"
   ]
  },
  {
   "cell_type": "code",
   "execution_count": null,
   "metadata": {},
   "outputs": [],
   "source": []
  },
  {
   "cell_type": "code",
   "execution_count": null,
   "metadata": {},
   "outputs": [],
   "source": []
  }
 ],
 "metadata": {
  "kernelspec": {
   "display_name": "Python 3",
   "language": "python",
   "name": "python3"
  },
  "language_info": {
   "codemirror_mode": {
    "name": "ipython",
    "version": 3
   },
   "file_extension": ".py",
   "mimetype": "text/x-python",
   "name": "python",
   "nbconvert_exporter": "python",
   "pygments_lexer": "ipython3",
   "version": "3.10.12"
  }
 },
 "nbformat": 4,
 "nbformat_minor": 2
}
