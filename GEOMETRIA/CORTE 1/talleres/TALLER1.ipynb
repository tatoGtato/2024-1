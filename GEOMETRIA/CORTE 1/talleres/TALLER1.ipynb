{
 "cells": [
  {
   "cell_type": "markdown",
   "metadata": {},
   "source": [
    "SE DEFINE LA CLASE"
   ]
  },
  {
   "cell_type": "code",
   "execution_count": null,
   "metadata": {},
   "outputs": [],
   "source": [
    "class Vertex:\n",
    "    def __init__ (self, vertex_id, coordinates):\n",
    "        self.id = vertex_id\n",
    "        self.coordinates = coordinates \n",
    "        \n",
    "\n",
    "class HalfEdge:\n",
    "    def __init__(self, edge_id, pair, prev, next, clockwise):\n",
    "        self.edge_id = edge_id\n",
    "        self.pair = pair\n",
    "        self.prev = prev\n",
    "        self.next= next\n",
    "        self.clockwise = clockwise\n",
    "        \n",
    "        \n",
    "class Face:\n",
    "    def __init__ (self, halfEdge1, halfEdge2):\n",
    "        self.halfEdge1 = halfEdge1\n",
    "        self.halfEdge2 = halfEdge2 if halfEdge2 != None else None \n",
    "        \n",
    "        "
   ]
  },
  {
   "cell_type": "code",
   "execution_count": null,
   "metadata": {},
   "outputs": [],
   "source": [
    "v1= Vertex(0, (2,3))\n",
    "v2= Vertex(1, (3,2))\n",
    "\n",
    "v3= Vertex(2, (6,4))\n",
    "v4= Vertex(3, (2,2))"
   ]
  }
 ],
 "metadata": {
  "language_info": {
   "name": "python"
  }
 },
 "nbformat": 4,
 "nbformat_minor": 2
}
