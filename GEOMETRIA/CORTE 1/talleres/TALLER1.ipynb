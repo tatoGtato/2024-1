{
 "cells": [
  {
   "cell_type": "code",
   "execution_count": 4,
   "metadata": {},
   "outputs": [],
   "source": [
    "import matplotlib.pyplot as plt\n",
    "import random as rnd"
   ]
  },
  {
   "cell_type": "code",
   "execution_count": 5,
   "metadata": {},
   "outputs": [],
   "source": [
    "def generateRandomVertex(n, rang):\n",
    "    verts = []\n",
    "    ekis = 0\n",
    "    ye = 0\n",
    "    for i in range(0,n):\n",
    "        \n",
    "        x2 = rnd.randrange(rang)\n",
    "        y2 = rnd.randrange(rang)\n",
    "        \n",
    "        if (i == 0):      \n",
    "            x1 = rnd.randrange(rang)\n",
    "            y1 = rnd.randrange(rang)\n",
    "                        \n",
    "            verts.append(( (x1,y1) , (x2,y2) ))\n",
    "        else:\n",
    "            verts.append(( (ekis,ye) , (x2,y2) ))     \n",
    "        \n",
    "        ekis = x2\n",
    "        ye = y2 \n",
    "    return verts"
   ]
  },
  {
   "cell_type": "code",
   "execution_count": 6,
   "metadata": {},
   "outputs": [],
   "source": [
    "def plotDcel(verts):\n",
    "    \n",
    "    ax = plt.axes()\n",
    "    \n",
    "    for i in verts:\n",
    "        \n",
    "        x = ((i[0])[0], (i[1])[0])\n",
    "        y = ((i[0])[1], (i[1])[1])\n",
    "        \n",
    "        dx = (i[1])[0] - (i[0])[0]\n",
    "        dy = (i[1])[1] - (i[0])[1]\n",
    "\n",
    "        dxT = (i[0])[0] - (i[1])[0]\n",
    "        dyT = (i[0])[1] - (i[1])[1]\n",
    "        \n",
    "        ax.arrow((i[0])[0], (i[0])[1], dx, dy, head_width=0.09, head_length=0.06, fc='k', ec='k', length_includes_head=True)\n",
    "        ax.arrow((i[1])[0], (i[1])[1], dxT, dyT, head_width=0.09, head_length=0.06, fc='k', ec='k', length_includes_head=True)\n",
    "        plt.plot(x, y, 'o')\n",
    "    plt.show()"
   ]
  },
  {
   "cell_type": "code",
   "execution_count": 7,
   "metadata": {},
   "outputs": [],
   "source": [
    "class Vertex:\n",
    "    def __init__ (self, vertex_id, coordinates):\n",
    "        self.id = vertex_id\n",
    "        self.coordinates = coordinates \n",
    "        \n",
    "    def __repr__(self):\n",
    "        return f\"{self.coordinates}\"\n",
    "        \n",
    "class Edge:\n",
    "    def __init__(self, he1, he2):\n",
    "        self.halfEdge1 = he1\n",
    "        self.halfEdge2 = he2\n",
    "        \n",
    "    def __repr__(self):    \n",
    "        return f\"\"\"\n",
    "h1: {self.halfEdge1}\n",
    "h2: {self.halfEdge2}\"\"\"\n",
    "        \n",
    "class HalfEdge:\n",
    "    def __init__(self, id, v1, v2):\n",
    "        self.id = id\n",
    "        self.twin = None\n",
    "        self.origin = v1\n",
    "        self.destination = v2\n",
    "        self.prev = None\n",
    "        self.next= None\n",
    "     \n",
    "    def __repr__(self):    \n",
    "        return f\"\"\"\n",
    "    id: {self.id} \n",
    "    origin: {self.origin} \n",
    "    destination: {self.destination} \n",
    "    prev: {self.prev} \n",
    "    next: {self.next}\n",
    "    \"\"\"\n",
    "\n",
    "        \n",
    "class Face:\n",
    "    def __init__ (self, outerEdge, innerEdge):\n",
    "        self.halfEdge1 = outerEdge\n",
    "        self.halfEdge2 = innerEdge if innerEdge != None else None  "
   ]
  },
  {
   "cell_type": "code",
   "execution_count": 8,
   "metadata": {},
   "outputs": [],
   "source": [
    "class Dcel:\n",
    "    def __init__(self):\n",
    "        self.vertices = []\n",
    "        self.edges = []\n",
    "        self.faces = []\n",
    "        \n",
    "    def __repr__(self):\n",
    "        return f\"\"\"Vertices: {self.vertices}\\n\\nEdges: {self.edges}\"\"\"  \n",
    "    \n",
    "    def build_dcel(self, verts):\n",
    "        \"\"\"BUILDS VERTEX\"\"\"\n",
    "        count = 0\n",
    "        for i in verts:\n",
    "            self.vertices.append(Vertex(count, (i[0],i[1])))\n",
    "            count += 1\n",
    "            \n",
    "        \"\"\"BUILDS EDGES\"\"\"\n",
    "        count = 0\n",
    "        for i in self.vertices:\n",
    "            he1 = HalfEdge(count,i.coordinates[0], i.coordinates[1])\n",
    "            he2 = HalfEdge(count+1,i.coordinates[1], i.coordinates[0])\n",
    "            he1.twin = he2\n",
    "            he2.twin = he1\n",
    "            self.edges.append(Edge(he1,he2))\n",
    "            count += 2\n",
    "    "
   ]
  },
  {
   "cell_type": "code",
   "execution_count": 89,
   "metadata": {},
   "outputs": [
    {
     "data": {
      "image/png": "[encoded data removed]",
      "text/plain": [
       "<Figure size 640x480 with 1 Axes>"
      ]
     },
     "metadata": {},
     "output_type": "display_data"
    }
   ],
   "source": [
    "\"\"\"PLOT DCEL\"\"\"\n",
    "\n",
    "verts = generateRandomVertex(3, 10)\n",
    "plotDcel(verts)"
   ]
  },
  {
   "cell_type": "code",
   "execution_count": 93,
   "metadata": {},
   "outputs": [
    {
     "name": "stdout",
     "output_type": "stream",
     "text": [
      "Vertices: [((0, 5), (2, 1)), ((2, 1), (8, 4)), ((8, 4), (0, 0))]\n",
      "\n",
      "Edges: [\n",
      "h1: \n",
      "    id: 0 \n",
      "    origin: (0, 5) \n",
      "    destination: (2, 1) \n",
      "    prev: None \n",
      "    next: None\n",
      "    \n",
      "h2: \n",
      "    id: 1 \n",
      "    origin: (2, 1) \n",
      "    destination: (0, 5) \n",
      "    prev: None \n",
      "    next: None\n",
      "    , \n",
      "h1: \n",
      "    id: 2 \n",
      "    origin: (2, 1) \n",
      "    destination: (8, 4) \n",
      "    prev: None \n",
      "    next: None\n",
      "    \n",
      "h2: \n",
      "    id: 3 \n",
      "    origin: (8, 4) \n",
      "    destination: (2, 1) \n",
      "    prev: None \n",
      "    next: None\n",
      "    , \n",
      "h1: \n",
      "    id: 4 \n",
      "    origin: (8, 4) \n",
      "    destination: (0, 0) \n",
      "    prev: None \n",
      "    next: None\n",
      "    \n",
      "h2: \n",
      "    id: 5 \n",
      "    origin: (0, 0) \n",
      "    destination: (8, 4) \n",
      "    prev: None \n",
      "    next: None\n",
      "    ]\n"
     ]
    }
   ],
   "source": [
    "\"\"\"BUILD DCEL\"\"\"\n",
    "Dcel1 = Dcel()\n",
    "Dcel1.build_dcel(verts)\n",
    "\n",
    "print(Dcel1) "
   ]
  }
 ],
 "metadata": {
  "kernelspec": {
   "display_name": "Python 3",
   "language": "python",
   "name": "python3"
  },
  "language_info": {
   "codemirror_mode": {
    "name": "ipython",
    "version": 3
   },
   "file_extension": ".py",
   "mimetype": "text/x-python",
   "name": "python",
   "nbconvert_exporter": "python",
   "pygments_lexer": "ipython3",
   "version": "3.10.12"
  }
 },
 "nbformat": 4,
 "nbformat_minor": 2
}
