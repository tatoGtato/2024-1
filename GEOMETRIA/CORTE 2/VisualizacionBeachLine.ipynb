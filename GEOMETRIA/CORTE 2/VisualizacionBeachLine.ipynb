{
  "cells": [
    {
      "cell_type": "code",
      "execution_count": 3,
      "metadata": {
        "colab": {
          "base_uri": "https://localhost:8080/",
          "height": 442,
          "referenced_widgets": [
            "a4b1a6c7c8e34a0c82025a1384fd5954",
            "c8e52ec9d8f7483f8776698ee259e420",
            "64dc85d36747424e9fc0a57e232e1ada",
            "e389b3cde9304e2d859e6e3d215cdf2d",
            "970e690cb73e469ab0a29632f9b703df",
            "68cf5e13c8f741d3981a271a26d26ef1",
            "15b5fb8da70e418d8277c9fc71f742b1"
          ]
        },
        "id": "geHzrGysYrBm",
        "outputId": "d0fc0963-6758-47d2-ee15-396da893f975"
      },
      "outputs": [],
      "source": [
        "##permite visualizar el diagrama de Voronoi de unos puntos y la beach line respectiva a medida\n",
        "##que se cambia la linea de barrido\n",
        "import matplotlib.pyplot as plt\n",
        "import numpy as np\n",
        "import ipywidgets as widgets\n",
        "from IPython.display import display\n",
        "from ipywidgets import VBox\n",
        "from scipy.spatial import Voronoi, voronoi_plot_2d\n",
        "import random\n",
        "\n",
        "def create_beach_function(points, l):\n",
        "    def beach(x):\n",
        "        vals = [(p[0]**2 - l**2 - 2 * p[0] * x + x**2 + p[1]**2) / (2 * (p[1] - l)) for p in points if p[1] > l]\n",
        "        return min(vals) if len(vals) > 0 else 0\n",
        "\n",
        "    return beach\n",
        "\n",
        "def plot_beach_and_voronoi(points, l):\n",
        "    beach_function = create_beach_function(points, l)\n",
        "    x_values = np.linspace(0, 11, 1000)\n",
        "    y_values = [beach_function(x) for x in x_values]\n",
        "\n",
        "    # Set a smaller figure size\n",
        "    plt.figure(figsize=(6, 4))\n",
        "\n",
        "    # Plot the beach function\n",
        "    plt.plot(x_values, y_values, label=f'l={l}')\n",
        "    plt.plot(1, 4, color='red')\n",
        "    # Plot the points\n",
        "    xs, ys = zip(*points)\n",
        "    plt.scatter(xs, ys, color='red', label='Puntos')\n",
        "\n",
        "    # Set fixed axes limits\n",
        "    plt.xlim(0, 10)\n",
        "    plt.ylim(0, 10)\n",
        "\n",
        "    plt.title('Visualization de Beach L-Voronoi')\n",
        "    plt.xlabel('x')\n",
        "    plt.ylabel('Valor beach line')\n",
        "    plt.legend()\n",
        "    plt.grid(True)\n",
        "\n",
        "    # Display Voronoi diagram on the same axis\n",
        "    vor = Voronoi(points)\n",
        "    voronoi_plot_2d(vor, show_vertices=False, line_colors='orange', line_width=2, ax=plt.gca())\n",
        "\n",
        "    plt.show()\n",
        "points=[(3, 6), (10, 5), (4, 3), (8, 9), (9, 3.2), (1, 8), (4, 1)]\n",
        "\n",
        "l_slider = widgets.FloatSlider(value=0, min=-5, max=6, step=0.001, description='y l barrido:', layout=widgets.Layout(width='80%'))\n",
        "interactive_widget = widgets.interactive(plot_beach_and_voronoi, points=widgets.fixed(points), l=l_slider)\n",
        "\n",
        "# Display the plot and widget vertically\n",
        "display(VBox([interactive_widget.children[0], interactive_widget.children[1]]))"
      ]
    },
    {
      "cell_type": "code",
      "execution_count": 1,
      "metadata": {
        "colab": {
          "base_uri": "https://localhost:8080/"
        },
        "id": "HAEDPthYZgCa",
        "outputId": "10962fed-f422-4093-a720-b71cfd57062b"
      },
      "outputs": [
        {
          "ename": "NameError",
          "evalue": "name 'points' is not defined",
          "output_type": "error",
          "traceback": [
            "\u001b[0;31m---------------------------------------------------------------------------\u001b[0m",
            "\u001b[0;31mNameError\u001b[0m                                 Traceback (most recent call last)",
            "Cell \u001b[0;32mIn[1], line 4\u001b[0m\n\u001b[1;32m      1\u001b[0m \u001b[38;5;66;03m##muestra los vertices del diagrama con los puntos definidos en la celda de arriba\u001b[39;00m\n\u001b[1;32m      2\u001b[0m \u001b[38;5;28;01mfrom\u001b[39;00m \u001b[38;5;21;01mscipy\u001b[39;00m\u001b[38;5;21;01m.\u001b[39;00m\u001b[38;5;21;01mspatial\u001b[39;00m \u001b[38;5;28;01mimport\u001b[39;00m Voronoi\n\u001b[0;32m----> 4\u001b[0m vor \u001b[38;5;241m=\u001b[39m Voronoi(\u001b[43mpoints\u001b[49m)\n\u001b[1;32m      6\u001b[0m vor\u001b[38;5;241m.\u001b[39mvertices\n",
            "\u001b[0;31mNameError\u001b[0m: name 'points' is not defined"
          ]
        }
      ],
      "source": [
        "##muestra los vertices del diagrama con los puntos definidos en la celda de arriba\n",
        "from scipy.spatial import Voronoi\n",
        "\n",
        "vor = Voronoi(points)\n",
        "\n",
        "vor.vertices"
      ]
    }
  ],
  "metadata": {
    "colab": {
      "provenance": []
    },
    "kernelspec": {
      "display_name": "Python 3",
      "name": "python3"
    },
    "language_info": {
      "codemirror_mode": {
        "name": "ipython",
        "version": 3
      },
      "file_extension": ".py",
      "mimetype": "text/x-python",
      "name": "python",
      "nbconvert_exporter": "python",
      "pygments_lexer": "ipython3",
      "version": "3.10.12"
    },
    "widgets": {
      "application/vnd.jupyter.widget-state+json": {
        "15b5fb8da70e418d8277c9fc71f742b1": {
          "model_module": "@jupyter-widgets/base",
          "model_module_version": "1.2.0",
          "model_name": "LayoutModel",
          "state": {
            "_model_module": "@jupyter-widgets/base",
            "_model_module_version": "1.2.0",
            "_model_name": "LayoutModel",
            "_view_count": null,
            "_view_module": "@jupyter-widgets/base",
            "_view_module_version": "1.2.0",
            "_view_name": "LayoutView",
            "align_content": null,
            "align_items": null,
            "align_self": null,
            "border": null,
            "bottom": null,
            "display": null,
            "flex": null,
            "flex_flow": null,
            "grid_area": null,
            "grid_auto_columns": null,
            "grid_auto_flow": null,
            "grid_auto_rows": null,
            "grid_column": null,
            "grid_gap": null,
            "grid_row": null,
            "grid_template_areas": null,
            "grid_template_columns": null,
            "grid_template_rows": null,
            "height": null,
            "justify_content": null,
            "justify_items": null,
            "left": null,
            "margin": null,
            "max_height": null,
            "max_width": null,
            "min_height": null,
            "min_width": null,
            "object_fit": null,
            "object_position": null,
            "order": null,
            "overflow": null,
            "overflow_x": null,
            "overflow_y": null,
            "padding": null,
            "right": null,
            "top": null,
            "visibility": null,
            "width": null
          }
        },
        "64dc85d36747424e9fc0a57e232e1ada": {
          "model_module": "@jupyter-widgets/output",
          "model_module_version": "1.0.0",
          "model_name": "OutputModel",
          "state": {
            "_dom_classes": [],
            "_model_module": "@jupyter-widgets/output",
            "_model_module_version": "1.0.0",
            "_model_name": "OutputModel",
            "_view_count": null,
            "_view_module": "@jupyter-widgets/output",
            "_view_module_version": "1.0.0",
            "_view_name": "OutputView",
            "layout": "IPY_MODEL_15b5fb8da70e418d8277c9fc71f742b1",
            "msg_id": "",
            "outputs": [
              {
                "data": {
                  "image/png": "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\n",
                  "text/plain": "<Figure size 600x400 with 1 Axes>"
                },
                "metadata": {},
                "output_type": "display_data"
              }
            ]
          }
        },
        "68cf5e13c8f741d3981a271a26d26ef1": {
          "model_module": "@jupyter-widgets/controls",
          "model_module_version": "1.5.0",
          "model_name": "SliderStyleModel",
          "state": {
            "_model_module": "@jupyter-widgets/controls",
            "_model_module_version": "1.5.0",
            "_model_name": "SliderStyleModel",
            "_view_count": null,
            "_view_module": "@jupyter-widgets/base",
            "_view_module_version": "1.2.0",
            "_view_name": "StyleView",
            "description_width": "",
            "handle_color": null
          }
        },
        "970e690cb73e469ab0a29632f9b703df": {
          "model_module": "@jupyter-widgets/base",
          "model_module_version": "1.2.0",
          "model_name": "LayoutModel",
          "state": {
            "_model_module": "@jupyter-widgets/base",
            "_model_module_version": "1.2.0",
            "_model_name": "LayoutModel",
            "_view_count": null,
            "_view_module": "@jupyter-widgets/base",
            "_view_module_version": "1.2.0",
            "_view_name": "LayoutView",
            "align_content": null,
            "align_items": null,
            "align_self": null,
            "border": null,
            "bottom": null,
            "display": null,
            "flex": null,
            "flex_flow": null,
            "grid_area": null,
            "grid_auto_columns": null,
            "grid_auto_flow": null,
            "grid_auto_rows": null,
            "grid_column": null,
            "grid_gap": null,
            "grid_row": null,
            "grid_template_areas": null,
            "grid_template_columns": null,
            "grid_template_rows": null,
            "height": null,
            "justify_content": null,
            "justify_items": null,
            "left": null,
            "margin": null,
            "max_height": null,
            "max_width": null,
            "min_height": null,
            "min_width": null,
            "object_fit": null,
            "object_position": null,
            "order": null,
            "overflow": null,
            "overflow_x": null,
            "overflow_y": null,
            "padding": null,
            "right": null,
            "top": null,
            "visibility": null,
            "width": "80%"
          }
        },
        "a4b1a6c7c8e34a0c82025a1384fd5954": {
          "model_module": "@jupyter-widgets/controls",
          "model_module_version": "1.5.0",
          "model_name": "VBoxModel",
          "state": {
            "_dom_classes": [],
            "_model_module": "@jupyter-widgets/controls",
            "_model_module_version": "1.5.0",
            "_model_name": "VBoxModel",
            "_view_count": null,
            "_view_module": "@jupyter-widgets/controls",
            "_view_module_version": "1.5.0",
            "_view_name": "VBoxView",
            "box_style": "",
            "children": [
              "IPY_MODEL_c8e52ec9d8f7483f8776698ee259e420",
              "IPY_MODEL_64dc85d36747424e9fc0a57e232e1ada"
            ],
            "layout": "IPY_MODEL_e389b3cde9304e2d859e6e3d215cdf2d"
          }
        },
        "c8e52ec9d8f7483f8776698ee259e420": {
          "model_module": "@jupyter-widgets/controls",
          "model_module_version": "1.5.0",
          "model_name": "FloatSliderModel",
          "state": {
            "_dom_classes": [],
            "_model_module": "@jupyter-widgets/controls",
            "_model_module_version": "1.5.0",
            "_model_name": "FloatSliderModel",
            "_view_count": null,
            "_view_module": "@jupyter-widgets/controls",
            "_view_module_version": "1.5.0",
            "_view_name": "FloatSliderView",
            "continuous_update": true,
            "description": "y l barrido:",
            "description_tooltip": null,
            "disabled": false,
            "layout": "IPY_MODEL_970e690cb73e469ab0a29632f9b703df",
            "max": 6,
            "min": -5,
            "orientation": "horizontal",
            "readout": true,
            "readout_format": ".2f",
            "step": 0.001,
            "style": "IPY_MODEL_68cf5e13c8f741d3981a271a26d26ef1",
            "value": 0.54
          }
        },
        "e389b3cde9304e2d859e6e3d215cdf2d": {
          "model_module": "@jupyter-widgets/base",
          "model_module_version": "1.2.0",
          "model_name": "LayoutModel",
          "state": {
            "_model_module": "@jupyter-widgets/base",
            "_model_module_version": "1.2.0",
            "_model_name": "LayoutModel",
            "_view_count": null,
            "_view_module": "@jupyter-widgets/base",
            "_view_module_version": "1.2.0",
            "_view_name": "LayoutView",
            "align_content": null,
            "align_items": null,
            "align_self": null,
            "border": null,
            "bottom": null,
            "display": null,
            "flex": null,
            "flex_flow": null,
            "grid_area": null,
            "grid_auto_columns": null,
            "grid_auto_flow": null,
            "grid_auto_rows": null,
            "grid_column": null,
            "grid_gap": null,
            "grid_row": null,
            "grid_template_areas": null,
            "grid_template_columns": null,
            "grid_template_rows": null,
            "height": null,
            "justify_content": null,
            "justify_items": null,
            "left": null,
            "margin": null,
            "max_height": null,
            "max_width": null,
            "min_height": null,
            "min_width": null,
            "object_fit": null,
            "object_position": null,
            "order": null,
            "overflow": null,
            "overflow_x": null,
            "overflow_y": null,
            "padding": null,
            "right": null,
            "top": null,
            "visibility": null,
            "width": null
          }
        }
      }
    }
  },
  "nbformat": 4,
  "nbformat_minor": 0
}
