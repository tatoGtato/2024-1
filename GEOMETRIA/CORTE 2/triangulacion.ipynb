{
 "cells": [
  {
   "cell_type": "code",
   "execution_count": 327,
   "metadata": {},
   "outputs": [],
   "source": [
    "import matplotlib.pyplot as plt\n",
    "import random as rd"
   ]
  },
  {
   "cell_type": "code",
   "execution_count": 328,
   "metadata": {},
   "outputs": [],
   "source": [
    "class Vertex:\n",
    "    def __init__ (self, x, y):\n",
    "        self.x = x\n",
    "        self.y = y \n",
    "        \n",
    "    def __str__(self):\n",
    "        return f\"(x:{self.x}, y:{self.y})\"\n",
    "    \n",
    "    def __repr__(self):\n",
    "        return f\"(x:{self.x}, y:{self.y})\"\n",
    "        \n",
    "    def __eq__(self, other):\n",
    "        if(self.y == other.y and self.x == other.x):\n",
    "            return True\n",
    "        \n",
    "    def __lt__(self, other):\n",
    "        if(self.y<other.y):\n",
    "            return True\n",
    "        elif(self.y==other.y):\n",
    "            if (self.x < other.x):\n",
    "                return True\n",
    "        else:\n",
    "            return False\n",
    "        \n",
    "    def __lt__(self, other):\n",
    "        if(self.y>other.y):\n",
    "            return True\n",
    "        elif(self.y==other.y):\n",
    "            if (self.x > other.x):\n",
    "                return True\n",
    "        else:\n",
    "            return False\n",
    "        "
   ]
  },
  {
   "cell_type": "code",
   "execution_count": 337,
   "metadata": {},
   "outputs": [
    {
     "ename": "NameError",
     "evalue": "name 'test_list' is not defined",
     "output_type": "error",
     "traceback": [
      "\u001b[0;31m---------------------------------------------------------------------------\u001b[0m",
      "\u001b[0;31mNameError\u001b[0m                                 Traceback (most recent call last)",
      "Cell \u001b[0;32mIn[337], line 17\u001b[0m\n\u001b[1;32m     14\u001b[0m         der\u001b[38;5;241m.\u001b[39mappend(v1)\n\u001b[1;32m     15\u001b[0m     \u001b[38;5;28;01mreturn\u001b[39;00m test_list\n\u001b[0;32m---> 17\u001b[0m \u001b[38;5;28mprint\u001b[39m(\u001b[43mgenerate_test_cases\u001b[49m\u001b[43m(\u001b[49m\u001b[38;5;241;43m4\u001b[39;49m\u001b[43m)\u001b[49m)\n",
      "Cell \u001b[0;32mIn[337], line 15\u001b[0m, in \u001b[0;36mgenerate_test_cases\u001b[0;34m(n)\u001b[0m\n\u001b[1;32m     13\u001b[0m     izq\u001b[38;5;241m.\u001b[39mappend(v1)\n\u001b[1;32m     14\u001b[0m     der\u001b[38;5;241m.\u001b[39mappend(v1)\n\u001b[0;32m---> 15\u001b[0m \u001b[38;5;28;01mreturn\u001b[39;00m \u001b[43mtest_list\u001b[49m\n",
      "\u001b[0;31mNameError\u001b[0m: name 'test_list' is not defined"
     ]
    }
   ],
   "source": [
    "def generate_test_cases(n):\n",
    "    izq = []\n",
    "    der = []\n",
    "    x1 = rd.randrange(0, 10, 1)\n",
    "    y1 = rd.randrange(8, 12, 1)\n",
    "    v1 = Vertex(x1,y1)\n",
    "    izq.append(v1)\n",
    "    der.append(v1)\n",
    "    for i in range (n):\n",
    "        x1 = rd.randrange(0, 10, 1)\n",
    "        y1 = rd.randrange(0, 10, 1)\n",
    "        v1 = Vertex(x1,y1)\n",
    "        izq.append(v1)\n",
    "        der.append(v1)\n",
    "    return izq, der\n",
    "\n",
    "print(generate_test_cases(4))"
   ]
  },
  {
   "cell_type": "code",
   "execution_count": 330,
   "metadata": {},
   "outputs": [],
   "source": [
    "def plotTriang(diag):\n",
    "    for i in diag:\n",
    "        \n",
    "        x = []\n",
    "        y = []\n",
    "        \n",
    "        x1 = i[0].x\n",
    "        x.append(x1)\n",
    "        \n",
    "        y1 = i[0].y\n",
    "        y.append(y1)\n",
    "        \n",
    "        x2 = i[1].x\n",
    "        x.append(x2)\n",
    "        \n",
    "        y2 = i[1].y\n",
    "        y.append(y2)\n",
    "        \n",
    "        plt.plot(x , y , marker='o', linestyle ='-', label='Left Chain ')\n"
   ]
  },
  {
   "cell_type": "code",
   "execution_count": 331,
   "metadata": {},
   "outputs": [],
   "source": [
    "def plotPoints(izq, der, diag):\n",
    "    \n",
    "    izqi = []\n",
    "    dere = []\n",
    "    \n",
    "    for i in izq:\n",
    "        izqi.append((i.x,i.y))\n",
    "    \n",
    "    for i in der:\n",
    "        dere.append((i.x,i.y))\n",
    "    \n",
    "    left_x , left_y = zip (* izqi )\n",
    "    right_x , right_y = zip (* dere )\n",
    "    \n",
    "    if(diag != None):\n",
    "        plotTriang(diag)\n",
    "\n",
    "    # Plot left_chain , right_chain\n",
    "    plt.plot(left_x , left_y , marker='o', linestyle ='-', label='Left Chain ')\n",
    "    plt.plot(right_x , right_y , marker='o', linestyle ='-', label='Right Chain')\n",
    "\n",
    "    plt.xlabel('X-axis ')\n",
    "    plt.ylabel('Y-axis ')\n",
    "    plt.title('Cadenas deracha e izquierda ')\n",
    "    plt.legend ()\n",
    "\n",
    "    plt.show ()"
   ]
  },
  {
   "cell_type": "code",
   "execution_count": 332,
   "metadata": {},
   "outputs": [],
   "source": [
    "def getMayor(verts):\n",
    "    mayor = verts[0]\n",
    "    for i in range(0, len(verts)-1):\n",
    "        if (verts[i].y > mayor.y or verts[i].y == mayor.y and verts[i].x > mayor.x):\n",
    "            mayor = verts[i]\n",
    "    return mayor"
   ]
  },
  {
   "cell_type": "code",
   "execution_count": 333,
   "metadata": {},
   "outputs": [],
   "source": [
    "def cross_p (v0 , v1 , v2):\n",
    "    return (v2.x - v1.x) * (v0.y - v1.y) - (v0.x - v1.x) * (v2.y - v1.y)"
   ]
  },
  {
   "cell_type": "code",
   "execution_count": 334,
   "metadata": {},
   "outputs": [],
   "source": [
    "def getIzDer(verts, mayor):\n",
    "    i = verts.index(mayor)\n",
    "    izq = verts[:i] \n",
    "    der = verts[i:] \n",
    "    der.pop()\n",
    "    izq.sort(reverse=False) \n",
    "    der.sort(reverse=False) \n",
    "    return izq, der"
   ]
  },
  {
   "cell_type": "code",
   "execution_count": 335,
   "metadata": {},
   "outputs": [],
   "source": [
    "\n",
    "def triangulacion(izq, der):\n",
    "    \n",
    "    diagonales = []\n",
    "    u_list =sorted ( izq + der , key=lambda v: (-v.y, v.x))\n",
    "\n",
    "    u_list = u_list [1: -2]\n",
    "    stack=u_list [:2]\n",
    "    for vertex in u_list [2:]:\n",
    "        cond_l = vertex in izq and stack [-1] in izq\n",
    "        cond_r = vertex in der and stack [-1] in der\n",
    "        if cond_l and len(stack) >1:\n",
    "            if cross_p (stack [-2], stack [-1], vertex) >0:\n",
    "                diagonales.append (( stack [-2], vertex))\n",
    "                stack.pop (-1)\n",
    "            stack.append(vertex)\n",
    "        elif cond_r and len(stack) >1:\n",
    "            if cross_p (stack [-2], stack [-1], vertex) < 0:\n",
    "                diagonales.append (( stack [-2], vertex))\n",
    "                stack.pop (-1)\n",
    "            stack.append(vertex)\n",
    "        else:\n",
    "            stack.pop (0)\n",
    "            while len(stack) >1:\n",
    "                diagonales.append (( vertex , stack [0]))\n",
    "                stack.pop (0)\n",
    "            diagonales.append (( vertex , stack [0]))\n",
    "            stack.append(vertex)\n",
    "    return diagonales\n",
    "        "
   ]
  },
  {
   "cell_type": "code",
   "execution_count": 336,
   "metadata": {},
   "outputs": [
    {
     "name": "stdout",
     "output_type": "stream",
     "text": [
      "[((x:7, y:4), (x:2, y:5)), ((x:1, y:2), (x:7, y:4)), ((x:5, y:2), (x:1, y:2))]\n"
     ]
    },
    {
     "data": {
      "image/png": "[encoded data removed]",
      "text/plain": [
       "<Figure size 640x480 with 1 Axes>"
      ]
     },
     "metadata": {},
     "output_type": "display_data"
    }
   ],
   "source": [
    "izq = [Vertex(5, 8), Vertex(2, 5), Vertex(1, 2), Vertex(0, 0)]\n",
    "der = [Vertex(5, 8), Vertex(7, 4), Vertex(5, 2) ,Vertex(0,0)]\n",
    "\n",
    "diagonales = triangulacion(izq, der)\n",
    "plotPoints(izq, der, None)"
   ]
  }
 ],
 "metadata": {
  "kernelspec": {
   "display_name": "Python 3",
   "language": "python",
   "name": "python3"
  },
  "language_info": {
   "codemirror_mode": {
    "name": "ipython",
    "version": 3
   },
   "file_extension": ".py",
   "mimetype": "text/x-python",
   "name": "python",
   "nbconvert_exporter": "python",
   "pygments_lexer": "ipython3",
   "version": "3.10.12"
  }
 },
 "nbformat": 4,
 "nbformat_minor": 2
}
