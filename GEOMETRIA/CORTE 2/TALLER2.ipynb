{
 "cells": [
  {
   "cell_type": "code",
   "execution_count": 2,
   "metadata": {},
   "outputs": [],
   "source": [
    "import matplotlib.pyplot as plt\n",
    "import random as rd"
   ]
  },
  {
   "cell_type": "markdown",
   "metadata": {},
   "source": [
    "## Definicion de funciones"
   ]
  },
  {
   "cell_type": "code",
   "execution_count": 3,
   "metadata": {},
   "outputs": [],
   "source": [
    "def prod(v,w):\n",
    "    return v[0]*w[1] -w[0]*v[1]\n",
    "\n",
    "def minus(v,w):\n",
    "    return (v[0]-w[0],v[1]-w[1])\n",
    "    # regresa a que tipo de vertice corresponde v2 , si v1 y v3 son sus vecinos dentro del poligono\n",
    "    #que en sentido antihorario recorre de v1 -> v2 -> v3\n",
    "def type(verts):\n",
    "    \n",
    "    v1 = verts[0]\n",
    "    v2 = verts[1]\n",
    "    v3 = verts[2]\n",
    "    \n",
    "    if min(v1[1],v3 [1]) >=v2 [1]:\n",
    "        if prod(minus(v1 ,v2),minus(v3 ,v2)) >0:\n",
    "            return 'merge'\n",
    "        else:\n",
    "            return 'end'\n",
    "    elif max(v1[1],v3 [1]) <= v2 [1]:\n",
    "        if prod(minus(v1 ,v2),minus(v3 ,v2)) >0:\n",
    "            return 'split'\n",
    "        else:\n",
    "            return 'start'\n",
    "    return 'regular'"
   ]
  },
  {
   "cell_type": "code",
   "execution_count": 4,
   "metadata": {},
   "outputs": [],
   "source": [
    "def generate_test_cases(n):\n",
    " test_list = []\n",
    " vertex = []\n",
    " for i in range (n):\n",
    "     x1 = rd.randrange(0, 10, 1)\n",
    "     y1 = rd.randrange(0, 10, 1)\n",
    "     v1 = (x1,y1)\n",
    "     vertex.append(v1)\n",
    "     \n",
    "     x2 = rd.randrange(0, 10, 1)\n",
    "     y2 = rd.randrange(0, 10, 1)\n",
    "     v2 = (x2,y2)\n",
    "     vertex.append(v2)\n",
    "     \n",
    "     x3 = rd.randrange(0, 10, 1)\n",
    "     y3 = rd.randrange(0, 10, 1)\n",
    "     v3 = (x3,y3)\n",
    "     vertex.append(v3)\n",
    "     \n",
    "     test_list.append(vertex)\n",
    "     vertex = []\n",
    " return test_list\n"
   ]
  },
  {
   "cell_type": "code",
   "execution_count": 5,
   "metadata": {},
   "outputs": [],
   "source": [
    "def plotPoints(vertex_list, tipo):\n",
    "    \n",
    "    x = []\n",
    "    y = []\n",
    "\n",
    "    for i in vertex_list:\n",
    "        x.append(i[0])\n",
    "        y.append(i[1])\n",
    "    \n",
    "    if (tipo == 'merge'):\n",
    "        plt.plot(x, y, color='green', linestyle='dashed', linewidth = 3,\n",
    "            marker='v', markerfacecolor='blue', markersize=12)\n",
    "        \n",
    "    elif (tipo == 'end'):\n",
    "        plt.plot(x, y, color='green', linestyle='dashed', linewidth = 3,\n",
    "            marker='s', markerfacecolor='blue', markersize=12)\n",
    "        \n",
    "    elif (tipo == 'split'):\n",
    "        plt.plot(x, y, color='green', linestyle='dashed', linewidth = 3,\n",
    "            marker='^', markerfacecolor='blue', markersize=12)\n",
    "        \n",
    "    elif (tipo == 'start'):\n",
    "        plt.plot(x, y, color='green', linestyle='dashed', linewidth = 3,\n",
    "            marker='8', markerfacecolor='blue', markersize=12)\n",
    "        \n",
    "    elif (tipo == 'regular'):\n",
    "        plt.plot(x, y, color='green', linestyle='dashed', linewidth = 3,\n",
    "            marker='o', markerfacecolor='blue', markersize=12)\n",
    "    \n",
    "    \n",
    "    plt.ylim(-1,11)\n",
    "    plt.xlim(-1,11)\n",
    "    \n",
    "    # naming the x axis\n",
    "    plt.xlabel('x - axis')\n",
    "    # naming the y axis\n",
    "    plt.ylabel('y - axis')"
   ]
  },
  {
   "cell_type": "markdown",
   "metadata": {},
   "source": [
    "## PUNTO 2\n",
    "definicion de clases y funciones "
   ]
  },
  {
   "cell_type": "code",
   "execution_count": 6,
   "metadata": {},
   "outputs": [],
   "source": [
    "class dlcEdge :\n",
    "    def __init__ (self , start , end , next_edge =None):\n",
    "        self.start = start\n",
    "        self.end = end\n",
    "        self.next = next_edge\n",
    "    \n",
    "    def __str__(self):\n",
    "        return  f\"({self.start}, {self.end})\"\n",
    "\n",
    "    def __repr__(self):\n",
    "        return  f\"({self.start}, {self.end})\""
   ]
  },
  {
   "cell_type": "code",
   "execution_count": 7,
   "metadata": {},
   "outputs": [],
   "source": [
    "def gen_dcl_de_seq(seq):\n",
    "    l_seq=len(seq)\n",
    "    dledge_0 = dlcEdge(seq [0], seq [1])\n",
    "    dledge = dledge_0\n",
    "    i=1\n",
    "    while i < l_seq -1:\n",
    "        dledge.next= dlcEdge (seq[i], seq[i+1])\n",
    "        dledge = dledge.next\n",
    "        i+=1\n",
    "    dledge.next= dlcEdge (seq[l_seq -1], seq [0])\n",
    "    dledge = dledge.next\n",
    "    dledge.next = dledge_0\n",
    "    return dledge_0"
   ]
  },
  {
   "cell_type": "markdown",
   "metadata": {},
   "source": [
    "### EJECICION DE FUNCIONES"
   ]
  },
  {
   "cell_type": "code",
   "execution_count": 8,
   "metadata": {},
   "outputs": [
    {
     "name": "stdout",
     "output_type": "stream",
     "text": [
      "[(2, 8), (6, 8), (4, 0)]\n"
     ]
    }
   ],
   "source": [
    "test_cases = generate_test_cases(3)\n",
    "print(test_cases[0])"
   ]
  },
  {
   "cell_type": "code",
   "execution_count": 9,
   "metadata": {},
   "outputs": [
    {
     "name": "stdout",
     "output_type": "stream",
     "text": [
      "((4, 0), (2, 8))\n"
     ]
    },
    {
     "data": {
      "image/png": "[encoded data removed]",
      "text/plain": [
       "<Figure size 640x480 with 1 Axes>"
      ]
     },
     "metadata": {},
     "output_type": "display_data"
    }
   ],
   "source": [
    "tipo = type(test_cases[0])\n",
    "plotPoints(test_cases[0], tipo)\n",
    "dcl = gen_dcl_de_seq(test_cases[0])\n",
    "print(dcl.next.next.next.next.next)"
   ]
  },
  {
   "cell_type": "code",
   "execution_count": null,
   "metadata": {},
   "outputs": [],
   "source": []
  }
 ],
 "metadata": {
  "kernelspec": {
   "display_name": "Python 3",
   "language": "python",
   "name": "python3"
  },
  "language_info": {
   "codemirror_mode": {
    "name": "ipython",
    "version": 3
   },
   "file_extension": ".py",
   "mimetype": "text/x-python",
   "name": "python",
   "nbconvert_exporter": "python",
   "pygments_lexer": "ipython3",
   "version": "3.10.12"
  }
 },
 "nbformat": 4,
 "nbformat_minor": 2
}
